{
 "cells": [
  {
   "cell_type": "code",
   "execution_count": 1,
   "id": "e0680f54",
   "metadata": {},
   "outputs": [
    {
     "name": "stdout",
     "output_type": "stream",
     "text": [
      "WARNING:tensorflow:From C:\\Users\\padal\\anaconda3\\Lib\\site-packages\\keras\\src\\losses.py:2976: The name tf.losses.sparse_softmax_cross_entropy is deprecated. Please use tf.compat.v1.losses.sparse_softmax_cross_entropy instead.\n",
      "\n"
     ]
    }
   ],
   "source": [
    "import os\n",
    "import numpy as np\n",
    "import matplotlib.pyplot as plt\n",
    "import tensorflow as tf\n",
    "from tensorflow.keras.preprocessing.image import ImageDataGenerator\n",
    "from tensorflow.keras.layers import GlobalAveragePooling2D, Dense\n",
    "from sklearn.model_selection import train_test_split\n",
    "from tensorflow.keras.callbacks import EarlyStopping\n",
    "from sklearn.metrics import precision_score, recall_score, f1_score, confusion_matrix, classification_report, roc_auc_score\n",
    "import seaborn as sns\n",
    "from tensorflow.keras.applications import ResNet50"
   ]
  },
  {
   "cell_type": "code",
   "execution_count": 2,
   "id": "130d0734",
   "metadata": {},
   "outputs": [],
   "source": [
    "# Define folder paths\n",
    "folder_path = r\"C:\\Users\\padal\\OneDrive\\Desktop\\my projects\\Brain Tumour\\archive\\Brain_Tumor_Dataset\"\n",
    "negative_folder = 'Negative'\n",
    "positive_folder = 'Positive'"
   ]
  },
  {
   "cell_type": "code",
   "execution_count": 3,
   "id": "7b2c5ba1",
   "metadata": {},
   "outputs": [],
   "source": [
    "negative_images = os.listdir(os.path.join(folder_path, negative_folder))\n",
    "positive_images = os.listdir(os.path.join(folder_path, positive_folder))\n",
    "dataset = []\n",
    "labels = []"
   ]
  },
  {
   "cell_type": "code",
   "execution_count": 5,
   "id": "16c06a14",
   "metadata": {},
   "outputs": [],
   "source": [
    "# Load 'Negative' images\n",
    "for image_name in negative_images:\n",
    "    image_path = os.path.join(folder_path, negative_folder, image_name)\n",
    "    image = tf.keras.preprocessing.image.load_img(image_path, target_size=(224, 224))\n",
    "    image = tf.keras.preprocessing.image.img_to_array(image)\n",
    "    dataset.append(image)\n",
    "    labels.append(0)"
   ]
  },
  {
   "cell_type": "code",
   "execution_count": 6,
   "id": "6e6b24f2",
   "metadata": {},
   "outputs": [],
   "source": [
    "# Load 'Positive' images\n",
    "for image_name in positive_images:\n",
    "    image_path = os.path.join(folder_path, positive_folder, image_name)\n",
    "    image = tf.keras.preprocessing.image.load_img(image_path, target_size=(224, 224))\n",
    "    image = tf.keras.preprocessing.image.img_to_array(image)\n",
    "    dataset.append(image)\n",
    "    labels.append(1)"
   ]
  },
  {
   "cell_type": "code",
   "execution_count": 7,
   "id": "5b979d29",
   "metadata": {},
   "outputs": [],
   "source": [
    "# Convert to NumPy arrays\n",
    "X, y = np.array(dataset), np.array(labels)\n"
   ]
  },
  {
   "cell_type": "code",
   "execution_count": 8,
   "id": "7b2cc34f",
   "metadata": {},
   "outputs": [],
   "source": [
    "# Split the data into training and testing sets\n",
    "X_train, X_test, Y_train, Y_test = train_test_split(X, y, test_size=0.05, random_state=True)"
   ]
  },
  {
   "cell_type": "code",
   "execution_count": 9,
   "id": "236d43cc",
   "metadata": {},
   "outputs": [],
   "source": [
    "# Data augmentation\n",
    "datagen_train = ImageDataGenerator(\n",
    "    rotation_range=20,\n",
    "    width_shift_range=0.2,\n",
    "    height_shift_range=0.2,\n",
    "    horizontal_flip=True,\n",
    "    zoom_range=0.1\n",
    ")\n"
   ]
  },
  {
   "cell_type": "code",
   "execution_count": 10,
   "id": "95775cd6",
   "metadata": {},
   "outputs": [
    {
     "name": "stdout",
     "output_type": "stream",
     "text": [
      "WARNING:tensorflow:From C:\\Users\\padal\\anaconda3\\Lib\\site-packages\\keras\\src\\backend.py:1398: The name tf.executing_eagerly_outside_functions is deprecated. Please use tf.compat.v1.executing_eagerly_outside_functions instead.\n",
      "\n",
      "WARNING:tensorflow:From C:\\Users\\padal\\anaconda3\\Lib\\site-packages\\keras\\src\\layers\\normalization\\batch_normalization.py:979: The name tf.nn.fused_batch_norm is deprecated. Please use tf.compat.v1.nn.fused_batch_norm instead.\n",
      "\n"
     ]
    }
   ],
   "source": [
    "# Load pre-trained ResNet50 model\n",
    "base_model = ResNet50(input_shape=(224, 224, 3), include_top=False, weights='imagenet')\n",
    "base_model.trainable = False  # Freeze the pre-trained weights"
   ]
  },
  {
   "cell_type": "code",
   "execution_count": 12,
   "id": "7c910283",
   "metadata": {},
   "outputs": [],
   "source": [
    "# Global average pooling layer\n",
    "global_average_layer = GlobalAveragePooling2D()"
   ]
  },
  {
   "cell_type": "code",
   "execution_count": 13,
   "id": "fd5503e2",
   "metadata": {},
   "outputs": [],
   "source": [
    "# Prediction layer\n",
    "prediction_layer = Dense(1, activation='sigmoid')"
   ]
  },
  {
   "cell_type": "code",
   "execution_count": 14,
   "id": "b4f4c428",
   "metadata": {},
   "outputs": [],
   "source": [
    "# Build the model\n",
    "model = tf.keras.Sequential([\n",
    "    base_model,\n",
    "    global_average_layer,\n",
    "    prediction_layer\n",
    "])\n"
   ]
  },
  {
   "cell_type": "code",
   "execution_count": 15,
   "id": "40901743",
   "metadata": {},
   "outputs": [
    {
     "name": "stdout",
     "output_type": "stream",
     "text": [
      "WARNING:tensorflow:From C:\\Users\\padal\\anaconda3\\Lib\\site-packages\\keras\\src\\optimizers\\__init__.py:309: The name tf.train.Optimizer is deprecated. Please use tf.compat.v1.train.Optimizer instead.\n",
      "\n"
     ]
    }
   ],
   "source": [
    "# Compile the model\n",
    "model.compile(optimizer='adam',\n",
    "              loss='binary_crossentropy',\n",
    "              metrics=['accuracy'])"
   ]
  },
  {
   "cell_type": "code",
   "execution_count": 16,
   "id": "daa21739",
   "metadata": {},
   "outputs": [],
   "source": [
    "# Define the EarlyStopping callback\n",
    "early_stopping = EarlyStopping(monitor='val_loss',\n",
    "                               patience=5,\n",
    "                               restore_best_weights=True)\n"
   ]
  },
  {
   "cell_type": "code",
   "execution_count": 17,
   "id": "166d7fa8",
   "metadata": {
    "scrolled": true
   },
   "outputs": [
    {
     "name": "stdout",
     "output_type": "stream",
     "text": [
      "Epoch 1/15\n",
      "WARNING:tensorflow:From C:\\Users\\padal\\anaconda3\\Lib\\site-packages\\keras\\src\\utils\\tf_utils.py:492: The name tf.ragged.RaggedTensorValue is deprecated. Please use tf.compat.v1.ragged.RaggedTensorValue instead.\n",
      "\n",
      "WARNING:tensorflow:From C:\\Users\\padal\\anaconda3\\Lib\\site-packages\\keras\\src\\engine\\base_layer_utils.py:384: The name tf.executing_eagerly_outside_functions is deprecated. Please use tf.compat.v1.executing_eagerly_outside_functions instead.\n",
      "\n",
      "157/157 [==============================] - 217s 1s/step - loss: 0.2517 - accuracy: 0.9046 - val_loss: 0.1375 - val_accuracy: 0.9432\n",
      "Epoch 2/15\n",
      "157/157 [==============================] - 211s 1s/step - loss: 0.1181 - accuracy: 0.9590 - val_loss: 0.1189 - val_accuracy: 0.9545\n",
      "Epoch 3/15\n",
      "157/157 [==============================] - 199s 1s/step - loss: 0.0950 - accuracy: 0.9698 - val_loss: 0.0974 - val_accuracy: 0.9583\n",
      "Epoch 4/15\n",
      "157/157 [==============================] - 204s 1s/step - loss: 0.0795 - accuracy: 0.9762 - val_loss: 0.0833 - val_accuracy: 0.9659\n",
      "Epoch 5/15\n",
      "157/157 [==============================] - 211s 1s/step - loss: 0.0776 - accuracy: 0.9752 - val_loss: 0.0730 - val_accuracy: 0.9621\n",
      "Epoch 6/15\n",
      "157/157 [==============================] - 216s 1s/step - loss: 0.0644 - accuracy: 0.9796 - val_loss: 0.0658 - val_accuracy: 0.9773\n",
      "Epoch 7/15\n",
      "157/157 [==============================] - 212s 1s/step - loss: 0.0593 - accuracy: 0.9818 - val_loss: 0.0676 - val_accuracy: 0.9697\n",
      "Epoch 8/15\n",
      "157/157 [==============================] - 216s 1s/step - loss: 0.0540 - accuracy: 0.9824 - val_loss: 0.0526 - val_accuracy: 0.9848\n",
      "Epoch 9/15\n",
      "157/157 [==============================] - 207s 1s/step - loss: 0.0510 - accuracy: 0.9832 - val_loss: 0.0575 - val_accuracy: 0.9773\n",
      "Epoch 10/15\n",
      "157/157 [==============================] - 207s 1s/step - loss: 0.0448 - accuracy: 0.9856 - val_loss: 0.0523 - val_accuracy: 0.9773\n",
      "Epoch 11/15\n",
      "157/157 [==============================] - 212s 1s/step - loss: 0.0440 - accuracy: 0.9872 - val_loss: 0.0475 - val_accuracy: 0.9773\n",
      "Epoch 12/15\n",
      "157/157 [==============================] - 304s 2s/step - loss: 0.0386 - accuracy: 0.9888 - val_loss: 0.0456 - val_accuracy: 0.9735\n",
      "Epoch 13/15\n",
      "157/157 [==============================] - 255s 2s/step - loss: 0.0403 - accuracy: 0.9874 - val_loss: 0.0413 - val_accuracy: 0.9848\n",
      "Epoch 14/15\n",
      "157/157 [==============================] - 205s 1s/step - loss: 0.0402 - accuracy: 0.9890 - val_loss: 0.0385 - val_accuracy: 0.9848\n",
      "Epoch 15/15\n",
      "157/157 [==============================] - 194s 1s/step - loss: 0.0424 - accuracy: 0.9854 - val_loss: 0.0346 - val_accuracy: 0.9886\n"
     ]
    }
   ],
   "source": [
    "# Train the model with early stopping\n",
    "history = model.fit(datagen_train.flow(X_train, Y_train, batch_size=32),\n",
    "                    epochs=15,\n",
    "                    validation_data=(X_test, Y_test),\n",
    "                    callbacks=[early_stopping])\n"
   ]
  },
  {
   "cell_type": "code",
   "execution_count": 18,
   "id": "dd4c7643",
   "metadata": {},
   "outputs": [
    {
     "name": "stdout",
     "output_type": "stream",
     "text": [
      "9/9 [==============================] - 10s 1s/step - loss: 0.0346 - accuracy: 0.9886\n",
      "Test Loss: 0.034587860107421875\n",
      "Test Accuracy: 0.9886363744735718\n"
     ]
    }
   ],
   "source": [
    "# Evaluate the model\n",
    "loss, accuracy = model.evaluate(X_test, Y_test)\n",
    "print(\"Test Loss:\", loss)\n",
    "print(\"Test Accuracy:\", accuracy)"
   ]
  },
  {
   "cell_type": "code",
   "execution_count": 19,
   "id": "fea69b83",
   "metadata": {},
   "outputs": [
    {
     "name": "stdout",
     "output_type": "stream",
     "text": [
      "9/9 [==============================] - 11s 1s/step\n",
      "Precision: 1.0\n",
      "Recall: 0.9820359281437125\n",
      "F1 Score: 0.9909365558912386\n"
     ]
    }
   ],
   "source": [
    "# Make predictions\n",
    "predictions = model.predict(X_test)\n",
    "threshold = 0.5\n",
    "predicted_labels = (predictions > threshold).astype(int)\n",
    "\n",
    "# Calculate precision, recall, and F1 score\n",
    "precision = precision_score(Y_test, predicted_labels)\n",
    "recall = recall_score(Y_test, predicted_labels)\n",
    "f1 = f1_score(Y_test, predicted_labels)\n",
    "\n",
    "print(\"Precision:\", precision)\n",
    "print(\"Recall:\", recall)\n",
    "print(\"F1 Score:\", f1)\n"
   ]
  },
  {
   "cell_type": "code",
   "execution_count": 20,
   "id": "9566ecd8",
   "metadata": {},
   "outputs": [
    {
     "name": "stdout",
     "output_type": "stream",
     "text": [
      "Model: \"sequential\"\n",
      "_________________________________________________________________\n",
      " Layer (type)                Output Shape              Param #   \n",
      "=================================================================\n",
      " resnet50 (Functional)       (None, 7, 7, 2048)        23587712  \n",
      "                                                                 \n",
      " global_average_pooling2d (  (None, 2048)              0         \n",
      " GlobalAveragePooling2D)                                         \n",
      "                                                                 \n",
      " dense (Dense)               (None, 1)                 2049      \n",
      "                                                                 \n",
      "=================================================================\n",
      "Total params: 23589761 (89.99 MB)\n",
      "Trainable params: 2049 (8.00 KB)\n",
      "Non-trainable params: 23587712 (89.98 MB)\n",
      "_________________________________________________________________\n"
     ]
    }
   ],
   "source": [
    "# Get the model summary\n",
    "model.summary()\n",
    "\n",
    "# Save the model\n",
    "model.save(\"Brain_Tumor_Detection_ResNet50.keras\")"
   ]
  },
  {
   "cell_type": "code",
   "execution_count": 21,
   "id": "071bdb30",
   "metadata": {},
   "outputs": [
    {
     "data": {
      "image/png": "[encoded data removed]",
      "text/plain": [
       "<Figure size 640x480 with 1 Axes>"
      ]
     },
     "metadata": {},
     "output_type": "display_data"
    },
    {
     "data": {
      "image/png": "[encoded data removed]",
      "text/plain": [
       "<Figure size 640x480 with 1 Axes>"
      ]
     },
     "metadata": {},
     "output_type": "display_data"
    }
   ],
   "source": [
    "# Plot metrics\n",
    "def plot_metrics(history):\n",
    "    train_loss = history.history['loss']\n",
    "    val_loss = history.history['val_loss']\n",
    "    train_acc = history.history['accuracy']\n",
    "    val_acc = history.history['val_accuracy']\n",
    "    \n",
    "    # Loss plot\n",
    "    plt.figure()\n",
    "    plt.plot(train_loss, label='Training Loss')\n",
    "    plt.plot(val_loss, label='Validation Loss')\n",
    "    plt.title('Loss')\n",
    "    plt.xlabel('Epoch')\n",
    "    plt.ylabel('Loss')\n",
    "    plt.legend()\n",
    "    plt.show()\n",
    "    \n",
    "    # Accuracy plot\n",
    "    plt.figure()\n",
    "    plt.plot(train_acc, label='Training Accuracy')\n",
    "    plt.plot(val_acc, label='Validation Accuracy')\n",
    "    plt.title('Accuracy')\n",
    "    plt.xlabel('Epoch')\n",
    "    plt.ylabel('Accuracy')\n",
    "    plt.legend()\n",
    "    plt.show()\n",
    "\n",
    "plot_metrics(history)"
   ]
  },
  {
   "cell_type": "code",
   "execution_count": 22,
   "id": "2f2e615f",
   "metadata": {},
   "outputs": [
    {
     "name": "stdout",
     "output_type": "stream",
     "text": [
      "Output shape of global_average_layer: (None, 2048)\n",
      "Input shape expected by dense layer: (None, 2048)\n"
     ]
    }
   ],
   "source": [
    "global_avg_pool_shape = tf.keras.layers.GlobalAveragePooling2D()(base_model.output).shape\n",
    "print(\"Output shape of global_average_layer:\", global_avg_pool_shape)\n",
    "print(\"Input shape expected by dense layer:\", prediction_layer.input_shape)\n"
   ]
  },
  {
   "cell_type": "code",
   "execution_count": 23,
   "id": "a4a9a211",
   "metadata": {},
   "outputs": [
    {
     "data": {
      "image/png": "[encoded data removed]",
      "text/plain": [
       "<Figure size 800x600 with 1 Axes>"
      ]
     },
     "metadata": {},
     "output_type": "display_data"
    }
   ],
   "source": [
    "# Plot confusion matrix\n",
    "def plot_confusion_matrix(y_true, y_pred):\n",
    "    cm = confusion_matrix(y_true, y_pred)\n",
    "    plt.figure(figsize=(8, 6))\n",
    "    sns.heatmap(cm, annot=True, cmap='Blues', fmt='g', cbar=False)\n",
    "    plt.xlabel('Predicted labels')\n",
    "    plt.ylabel('True labels')\n",
    "    plt.title('Confusion Matrix')\n",
    "    plt.show()\n",
    "\n",
    "plot_confusion_matrix(Y_test, predicted_labels)"
   ]
  },
  {
   "cell_type": "code",
   "execution_count": 25,
   "id": "54043152",
   "metadata": {},
   "outputs": [
    {
     "name": "stdout",
     "output_type": "stream",
     "text": [
      "9/9 [==============================] - 9s 973ms/step\n",
      "Classification Report:\n",
      "              precision    recall  f1-score   support\n",
      "\n",
      "           0       0.97      1.00      0.98        97\n",
      "           1       1.00      0.98      0.99       167\n",
      "\n",
      "    accuracy                           0.99       264\n",
      "   macro avg       0.98      0.99      0.99       264\n",
      "weighted avg       0.99      0.99      0.99       264\n",
      "\n",
      "\n",
      "Confusion Matrix:\n",
      "[[ 97   0]\n",
      " [  3 164]]\n",
      "\n",
      "ROC-AUC Score: 0.9993826779430829\n"
     ]
    }
   ],
   "source": [
    "#Additional evaluation metrics\n",
    "# Make predictions on test data\n",
    "y_pred = model.predict(X_test)\n",
    "y_pred_binary = (y_pred > 0.5).astype(int)\n",
    "\n",
    "# Calculate precision, recall, F1 score, and support\n",
    "report = classification_report(Y_test, y_pred_binary)\n",
    "\n",
    "# Calculate confusion matrix\n",
    "cm = confusion_matrix(Y_test, y_pred_binary)\n",
    "\n",
    "# Calculate ROC-AUC score\n",
    "roc_auc = roc_auc_score(Y_test, y_pred)\n",
    "\n",
    "# Display classification report, confusion matrix, and ROC-AUC score\n",
    "print(\"Classification Report:\")\n",
    "print(report)\n",
    "print(\"\\nConfusion Matrix:\")\n",
    "print(cm)\n",
    "print(\"\\nROC-AUC Score:\", roc_auc)"
   ]
  },
  {
   "cell_type": "code",
   "execution_count": null,
   "id": "8dc7c0fb",
   "metadata": {},
   "outputs": [],
   "source": []
  }
 ],
 "metadata": {
  "kernelspec": {
   "display_name": "Python 3 (ipykernel)",
   "language": "python",
   "name": "python3"
  },
  "language_info": {
   "codemirror_mode": {
    "name": "ipython",
    "version": 3
   },
   "file_extension": ".py",
   "mimetype": "text/x-python",
   "name": "python",
   "nbconvert_exporter": "python",
   "pygments_lexer": "ipython3",
   "version": "3.11.7"
  }
 },
 "nbformat": 4,
 "nbformat_minor": 5
}
