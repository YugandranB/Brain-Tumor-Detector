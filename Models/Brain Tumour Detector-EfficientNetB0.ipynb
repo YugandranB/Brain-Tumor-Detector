{
 "cells": [
  {
   "cell_type": "code",
   "execution_count": 1,
   "id": "6ceeb97f",
   "metadata": {},
   "outputs": [
    {
     "name": "stdout",
     "output_type": "stream",
     "text": [
      "WARNING:tensorflow:From C:\\Users\\padal\\anaconda3\\Lib\\site-packages\\keras\\src\\losses.py:2976: The name tf.losses.sparse_softmax_cross_entropy is deprecated. Please use tf.compat.v1.losses.sparse_softmax_cross_entropy instead.\n",
      "\n"
     ]
    }
   ],
   "source": [
    "import os\n",
    "import numpy as np\n",
    "import matplotlib.pyplot as plt\n",
    "import tensorflow as tf\n",
    "from tensorflow.keras.preprocessing.image import ImageDataGenerator\n",
    "from tensorflow.keras.layers import GlobalAveragePooling2D, Dense\n",
    "from sklearn.model_selection import train_test_split\n",
    "from tensorflow.keras.callbacks import EarlyStopping\n",
    "from sklearn.metrics import precision_score, recall_score, f1_score, confusion_matrix, classification_report, roc_auc_score\n",
    "import seaborn as sns\n",
    "from tensorflow.keras.applications import EfficientNetB0\n"
   ]
  },
  {
   "cell_type": "code",
   "execution_count": 2,
   "id": "11cf7b3c",
   "metadata": {},
   "outputs": [],
   "source": [
    "# Define folder paths\n",
    "folder_path = r\"C:\\Users\\padal\\OneDrive\\Desktop\\my projects\\Brain Tumour\\archive\\Brain_Tumor_Dataset\"\n",
    "negative_folder = 'Negative'\n",
    "positive_folder = 'Positive'"
   ]
  },
  {
   "cell_type": "code",
   "execution_count": 3,
   "id": "b1d0be31",
   "metadata": {},
   "outputs": [],
   "source": [
    "\n",
    "# Load image filenames\n",
    "negative_images = os.listdir(os.path.join(folder_path, negative_folder))\n",
    "positive_images = os.listdir(os.path.join(folder_path, positive_folder))"
   ]
  },
  {
   "cell_type": "code",
   "execution_count": 4,
   "id": "c82080d6",
   "metadata": {},
   "outputs": [],
   "source": [
    "# Define lists to store images and labels\n",
    "dataset = []\n",
    "labels = []"
   ]
  },
  {
   "cell_type": "code",
   "execution_count": 5,
   "id": "d0a2dada",
   "metadata": {},
   "outputs": [],
   "source": [
    "# Load 'Negative' images\n",
    "for image_name in negative_images:\n",
    "    image_path = os.path.join(folder_path, negative_folder, image_name)\n",
    "    image = tf.keras.preprocessing.image.load_img(image_path, target_size=(224, 224))\n",
    "    image = tf.keras.preprocessing.image.img_to_array(image)\n",
    "    dataset.append(image)\n",
    "    labels.append(0)"
   ]
  },
  {
   "cell_type": "code",
   "execution_count": 6,
   "id": "8b3a9975",
   "metadata": {},
   "outputs": [],
   "source": [
    "# Load 'Positive' images\n",
    "for image_name in positive_images:\n",
    "    image_path = os.path.join(folder_path, positive_folder, image_name)\n",
    "    image = tf.keras.preprocessing.image.load_img(image_path, target_size=(224, 224))\n",
    "    image = tf.keras.preprocessing.image.img_to_array(image)\n",
    "    dataset.append(image)\n",
    "    labels.append(1)"
   ]
  },
  {
   "cell_type": "code",
   "execution_count": 7,
   "id": "21745933",
   "metadata": {},
   "outputs": [],
   "source": [
    "\n",
    "# Convert to NumPy arrays\n",
    "X, y = np.array(dataset), np.array(labels)"
   ]
  },
  {
   "cell_type": "code",
   "execution_count": 8,
   "id": "f1c9a4e9",
   "metadata": {},
   "outputs": [],
   "source": [
    "X_train, X_test, Y_train, Y_test = train_test_split(X, y, test_size=0.05, random_state=True)\n"
   ]
  },
  {
   "cell_type": "code",
   "execution_count": 9,
   "id": "5faa8e15",
   "metadata": {},
   "outputs": [],
   "source": [
    "# Data augmentation\n",
    "datagen_train = ImageDataGenerator(\n",
    "    rotation_range=20,\n",
    "    width_shift_range=0.2,\n",
    "    height_shift_range=0.2,\n",
    "    horizontal_flip=True,\n",
    "    zoom_range=0.1\n",
    ")"
   ]
  },
  {
   "cell_type": "code",
   "execution_count": 10,
   "id": "a1bce185",
   "metadata": {},
   "outputs": [
    {
     "name": "stdout",
     "output_type": "stream",
     "text": [
      "WARNING:tensorflow:From C:\\Users\\padal\\anaconda3\\Lib\\site-packages\\keras\\src\\backend.py:1398: The name tf.executing_eagerly_outside_functions is deprecated. Please use tf.compat.v1.executing_eagerly_outside_functions instead.\n",
      "\n",
      "WARNING:tensorflow:From C:\\Users\\padal\\anaconda3\\Lib\\site-packages\\keras\\src\\layers\\normalization\\batch_normalization.py:979: The name tf.nn.fused_batch_norm is deprecated. Please use tf.compat.v1.nn.fused_batch_norm instead.\n",
      "\n"
     ]
    }
   ],
   "source": [
    "# Load pre-trained EfficientNetB0 model\n",
    "base_model = EfficientNetB0(input_shape=(224, 224, 3), include_top=False, weights='imagenet')\n",
    "base_model.trainable = False  # Freeze the pre-trained weights"
   ]
  },
  {
   "cell_type": "code",
   "execution_count": 11,
   "id": "67885d6d",
   "metadata": {},
   "outputs": [],
   "source": [
    "# Global average pooling layer\n",
    "global_average_layer = GlobalAveragePooling2D()"
   ]
  },
  {
   "cell_type": "code",
   "execution_count": 12,
   "id": "c7fa3bf3",
   "metadata": {},
   "outputs": [],
   "source": [
    "# Prediction layer\n",
    "prediction_layer = Dense(1, activation='sigmoid')"
   ]
  },
  {
   "cell_type": "code",
   "execution_count": 13,
   "id": "23e67133",
   "metadata": {},
   "outputs": [],
   "source": [
    "# Build the model\n",
    "model = tf.keras.Sequential([\n",
    "    base_model,\n",
    "    global_average_layer,\n",
    "    prediction_layer\n",
    "])\n"
   ]
  },
  {
   "cell_type": "code",
   "execution_count": 14,
   "id": "d4e3ef52",
   "metadata": {},
   "outputs": [
    {
     "name": "stdout",
     "output_type": "stream",
     "text": [
      "WARNING:tensorflow:From C:\\Users\\padal\\anaconda3\\Lib\\site-packages\\keras\\src\\optimizers\\__init__.py:309: The name tf.train.Optimizer is deprecated. Please use tf.compat.v1.train.Optimizer instead.\n",
      "\n"
     ]
    }
   ],
   "source": [
    "# Compile the model\n",
    "model.compile(optimizer='adam',\n",
    "              loss='binary_crossentropy',\n",
    "              metrics=['accuracy'])"
   ]
  },
  {
   "cell_type": "code",
   "execution_count": 15,
   "id": "a9e86639",
   "metadata": {},
   "outputs": [],
   "source": [
    "# Define the EarlyStopping callback\n",
    "early_stopping = EarlyStopping(monitor='val_loss',\n",
    "                               patience=5,\n",
    "                               restore_best_weights=True)\n"
   ]
  },
  {
   "cell_type": "code",
   "execution_count": 16,
   "id": "2bafc643",
   "metadata": {
    "scrolled": true
   },
   "outputs": [
    {
     "name": "stdout",
     "output_type": "stream",
     "text": [
      "Epoch 1/15\n",
      "WARNING:tensorflow:From C:\\Users\\padal\\anaconda3\\Lib\\site-packages\\keras\\src\\utils\\tf_utils.py:492: The name tf.ragged.RaggedTensorValue is deprecated. Please use tf.compat.v1.ragged.RaggedTensorValue instead.\n",
      "\n",
      "WARNING:tensorflow:From C:\\Users\\padal\\anaconda3\\Lib\\site-packages\\keras\\src\\engine\\base_layer_utils.py:384: The name tf.executing_eagerly_outside_functions is deprecated. Please use tf.compat.v1.executing_eagerly_outside_functions instead.\n",
      "\n",
      "157/157 [==============================] - 134s 787ms/step - loss: 0.2954 - accuracy: 0.8910 - val_loss: 0.2017 - val_accuracy: 0.9053\n",
      "Epoch 2/15\n",
      "157/157 [==============================] - 117s 746ms/step - loss: 0.1585 - accuracy: 0.9494 - val_loss: 0.1697 - val_accuracy: 0.9205\n",
      "Epoch 3/15\n",
      "157/157 [==============================] - 121s 769ms/step - loss: 0.1365 - accuracy: 0.9566 - val_loss: 0.1383 - val_accuracy: 0.9242\n",
      "Epoch 4/15\n",
      "157/157 [==============================] - 129s 817ms/step - loss: 0.1188 - accuracy: 0.9590 - val_loss: 0.1336 - val_accuracy: 0.9394\n",
      "Epoch 5/15\n",
      "157/157 [==============================] - 131s 833ms/step - loss: 0.1065 - accuracy: 0.9636 - val_loss: 0.1299 - val_accuracy: 0.9432\n",
      "Epoch 6/15\n",
      "157/157 [==============================] - 127s 812ms/step - loss: 0.1033 - accuracy: 0.9644 - val_loss: 0.1132 - val_accuracy: 0.9508\n",
      "Epoch 7/15\n",
      "157/157 [==============================] - 129s 817ms/step - loss: 0.0975 - accuracy: 0.9676 - val_loss: 0.1053 - val_accuracy: 0.9470\n",
      "Epoch 8/15\n",
      "157/157 [==============================] - 107s 680ms/step - loss: 0.0877 - accuracy: 0.9692 - val_loss: 0.0976 - val_accuracy: 0.9545\n",
      "Epoch 9/15\n",
      "157/157 [==============================] - 107s 681ms/step - loss: 0.0888 - accuracy: 0.9694 - val_loss: 0.0971 - val_accuracy: 0.9545\n",
      "Epoch 10/15\n",
      "157/157 [==============================] - 106s 672ms/step - loss: 0.0850 - accuracy: 0.9720 - val_loss: 0.0895 - val_accuracy: 0.9583\n",
      "Epoch 11/15\n",
      "157/157 [==============================] - 104s 663ms/step - loss: 0.0785 - accuracy: 0.9756 - val_loss: 0.0963 - val_accuracy: 0.9508\n",
      "Epoch 12/15\n",
      "157/157 [==============================] - 106s 670ms/step - loss: 0.0797 - accuracy: 0.9750 - val_loss: 0.0867 - val_accuracy: 0.9621\n",
      "Epoch 13/15\n",
      "157/157 [==============================] - 110s 701ms/step - loss: 0.0754 - accuracy: 0.9746 - val_loss: 0.0826 - val_accuracy: 0.9621\n",
      "Epoch 14/15\n",
      "157/157 [==============================] - 109s 695ms/step - loss: 0.0720 - accuracy: 0.9782 - val_loss: 0.0793 - val_accuracy: 0.9621\n",
      "Epoch 15/15\n",
      "157/157 [==============================] - 107s 681ms/step - loss: 0.0696 - accuracy: 0.9760 - val_loss: 0.0806 - val_accuracy: 0.9583\n"
     ]
    }
   ],
   "source": [
    "# Train the model with early stopping\n",
    "history = model.fit(datagen_train.flow(X_train, Y_train, batch_size=32),\n",
    "                    epochs=15,\n",
    "                    validation_data=(X_test, Y_test),\n",
    "                    callbacks=[early_stopping])"
   ]
  },
  {
   "cell_type": "code",
   "execution_count": 17,
   "id": "c4859d44",
   "metadata": {},
   "outputs": [
    {
     "name": "stdout",
     "output_type": "stream",
     "text": [
      "9/9 [==============================] - 4s 392ms/step - loss: 0.0806 - accuracy: 0.9583\n",
      "Test Loss: 0.08055997639894485\n",
      "Test Accuracy: 0.9583333134651184\n"
     ]
    }
   ],
   "source": [
    "# Evaluate the model\n",
    "loss, accuracy = model.evaluate(X_test, Y_test)\n",
    "print(\"Test Loss:\", loss)\n",
    "print(\"Test Accuracy:\", accuracy)"
   ]
  },
  {
   "cell_type": "code",
   "execution_count": 18,
   "id": "6347f2bf",
   "metadata": {},
   "outputs": [
    {
     "name": "stdout",
     "output_type": "stream",
     "text": [
      "9/9 [==============================] - 6s 381ms/step\n"
     ]
    }
   ],
   "source": [
    "# Make predictions\n",
    "predictions = model.predict(X_test)\n",
    "threshold = 0.5\n",
    "predicted_labels = (predictions > threshold).astype(int)"
   ]
  },
  {
   "cell_type": "code",
   "execution_count": 19,
   "id": "4895c5dd",
   "metadata": {},
   "outputs": [
    {
     "name": "stdout",
     "output_type": "stream",
     "text": [
      "Precision: 0.9698795180722891\n",
      "Recall: 0.9640718562874252\n",
      "F1 Score: 0.966966966966967\n"
     ]
    }
   ],
   "source": [
    "# Calculate precision, recall, and F1 score\n",
    "precision = precision_score(Y_test, predicted_labels)\n",
    "recall = recall_score(Y_test, predicted_labels)\n",
    "f1 = f1_score(Y_test, predicted_labels)\n",
    "print(\"Precision:\", precision)\n",
    "print(\"Recall:\", recall)\n",
    "print(\"F1 Score:\", f1)"
   ]
  },
  {
   "cell_type": "code",
   "execution_count": 20,
   "id": "f7f7db3b",
   "metadata": {},
   "outputs": [],
   "source": [
    "# Save the model\n",
    "model.save(\"Brain_Tumor_Detection_EfficientNetB0.keras\")\n"
   ]
  },
  {
   "cell_type": "code",
   "execution_count": 21,
   "id": "cfd16e42",
   "metadata": {},
   "outputs": [
    {
     "name": "stdout",
     "output_type": "stream",
     "text": [
      "Model: \"sequential\"\n",
      "_________________________________________________________________\n",
      " Layer (type)                Output Shape              Param #   \n",
      "=================================================================\n",
      " efficientnetb0 (Functional  (None, 7, 7, 1280)        4049571   \n",
      " )                                                               \n",
      "                                                                 \n",
      " global_average_pooling2d (  (None, 1280)              0         \n",
      " GlobalAveragePooling2D)                                         \n",
      "                                                                 \n",
      " dense (Dense)               (None, 1)                 1281      \n",
      "                                                                 \n",
      "=================================================================\n",
      "Total params: 4050852 (15.45 MB)\n",
      "Trainable params: 1281 (5.00 KB)\n",
      "Non-trainable params: 4049571 (15.45 MB)\n",
      "_________________________________________________________________\n"
     ]
    }
   ],
   "source": [
    "# Get the model summary\n",
    "model.summary()"
   ]
  },
  {
   "cell_type": "code",
   "execution_count": 22,
   "id": "89d1a1b8",
   "metadata": {},
   "outputs": [
    {
     "data": {
      "image/png": "[encoded data removed]",
      "text/plain": [
       "<Figure size 640x480 with 1 Axes>"
      ]
     },
     "metadata": {},
     "output_type": "display_data"
    },
    {
     "data": {
      "image/png": "[encoded data removed]",
      "text/plain": [
       "<Figure size 640x480 with 1 Axes>"
      ]
     },
     "metadata": {},
     "output_type": "display_data"
    }
   ],
   "source": [
    "def plot_metrics(history):\n",
    "    train_loss = history.history['loss']\n",
    "    val_loss = history.history['val_loss']\n",
    "    train_acc = history.history['accuracy']\n",
    "    val_acc = history.history['val_accuracy']\n",
    "    \n",
    "    # Loss plot\n",
    "    plt.figure()\n",
    "    plt.plot(train_loss, label='Training Loss')\n",
    "    plt.plot(val_loss, label='Validation Loss')\n",
    "    plt.title('Loss')\n",
    "    plt.xlabel('Epoch')\n",
    "    plt.ylabel('Loss')\n",
    "    plt.legend()\n",
    "    plt.show()\n",
    "    \n",
    "    # Accuracy plot\n",
    "    plt.figure()\n",
    "    plt.plot(train_acc, label='Training Accuracy')\n",
    "    plt.plot(val_acc, label='Validation Accuracy')\n",
    "    plt.title('Accuracy')\n",
    "    plt.xlabel('Epoch')\n",
    "    plt.ylabel('Accuracy')\n",
    "    plt.legend()\n",
    "    plt.show()\n",
    "\n",
    "plot_metrics(history)\n"
   ]
  },
  {
   "cell_type": "code",
   "execution_count": 23,
   "id": "6b780f43",
   "metadata": {},
   "outputs": [
    {
     "data": {
      "image/png": "[encoded data removed]",
      "text/plain": [
       "<Figure size 800x600 with 1 Axes>"
      ]
     },
     "metadata": {},
     "output_type": "display_data"
    }
   ],
   "source": [
    "# Plot confusion matrix\n",
    "def plot_confusion_matrix(y_true, y_pred):\n",
    "    cm = confusion_matrix(y_true, y_pred)\n",
    "    plt.figure(figsize=(8, 6))\n",
    "    sns.heatmap(cm, annot=True, cmap='Blues', fmt='g', cbar=False)\n",
    "    plt.xlabel('Predicted labels')\n",
    "    plt.ylabel('True labels')\n",
    "    plt.title('Confusion Matrix')\n",
    "    plt.show()\n",
    "\n",
    "plot_confusion_matrix(Y_test, predicted_labels)\n"
   ]
  },
  {
   "cell_type": "code",
   "execution_count": 24,
   "id": "2bb331f8",
   "metadata": {},
   "outputs": [
    {
     "name": "stdout",
     "output_type": "stream",
     "text": [
      "9/9 [==============================] - 3s 373ms/step\n",
      "Classification Report:\n",
      "              precision    recall  f1-score   support\n",
      "\n",
      "           0       0.94      0.95      0.94        97\n",
      "           1       0.97      0.96      0.97       167\n",
      "\n",
      "    accuracy                           0.96       264\n",
      "   macro avg       0.95      0.96      0.96       264\n",
      "weighted avg       0.96      0.96      0.96       264\n",
      "\n",
      "\n",
      "Confusion Matrix:\n",
      "[[ 92   5]\n",
      " [  6 161]]\n",
      "\n",
      "ROC-AUC Score: 0.9962960676584974\n"
     ]
    }
   ],
   "source": [
    "# Additional evaluation metrics\n",
    "# Make predictions on test data\n",
    "y_pred = model.predict(X_test)\n",
    "y_pred_binary = (y_pred > 0.5).astype(int)\n",
    "\n",
    "# Calculate precision, recall, F1 score, and support\n",
    "report = classification_report(Y_test, y_pred_binary)\n",
    "\n",
    "# Calculate confusion matrix\n",
    "cm = confusion_matrix(Y_test, y_pred_binary)\n",
    "\n",
    "# Calculate ROC-AUC score\n",
    "roc_auc = roc_auc_score(Y_test, y_pred)\n",
    "\n",
    "# Display classification report, confusion matrix, and ROC-AUC score\n",
    "print(\"Classification Report:\")\n",
    "print(report)\n",
    "print(\"\\nConfusion Matrix:\")\n",
    "print(cm)\n",
    "print(\"\\nROC-AUC Score:\", roc_auc)"
   ]
  }
 ],
 "metadata": {
  "kernelspec": {
   "display_name": "Python 3 (ipykernel)",
   "language": "python",
   "name": "python3"
  },
  "language_info": {
   "codemirror_mode": {
    "name": "ipython",
    "version": 3
   },
   "file_extension": ".py",
   "mimetype": "text/x-python",
   "name": "python",
   "nbconvert_exporter": "python",
   "pygments_lexer": "ipython3",
   "version": "3.11.7"
  }
 },
 "nbformat": 4,
 "nbformat_minor": 5
}
